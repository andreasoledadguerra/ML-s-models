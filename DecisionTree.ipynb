{
 "cells": [
  {
   "cell_type": "markdown",
   "metadata": {},
   "source": [
    "# Building Decision Tree Algorithm\n",
    "\n",
    "In this notebook we develop a classification model using Decicion Tree Algorithm to build a model from the historical data patients, and their reponse to different medications. Then we will use the trained decision tree to predict the class of an unknown patient, or to find a proper drug for a new patient"
   ]
  }
 ],
 "metadata": {
  "language_info": {
   "name": "python"
  }
 },
 "nbformat": 4,
 "nbformat_minor": 2
}
